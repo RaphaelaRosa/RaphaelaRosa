{
 "cells": [
  {
   "cell_type": "code",
   "execution_count": null,
   "id": "8a6949e1",
   "metadata": {},
   "outputs": [],
   "source": [
    "# Comentário em Python"
   ]
  },
  {
   "cell_type": "markdown",
   "id": "a83d63c8",
   "metadata": {},
   "source": [
    "<h3 style=\"color: #00BFFF\">Imprimindo dados na tela do computador</h3>"
   ]
  },
  {
   "cell_type": "code",
   "execution_count": 1,
   "id": "15a505f6",
   "metadata": {},
   "outputs": [
    {
     "name": "stdout",
     "output_type": "stream",
     "text": [
      "Semana Python na Prática\n"
     ]
    }
   ],
   "source": [
    "print(\"Semana Python na Prática\")"
   ]
  },
  {
   "cell_type": "code",
   "execution_count": 2,
   "id": "64abf3d5",
   "metadata": {},
   "outputs": [
    {
     "name": "stdout",
     "output_type": "stream",
     "text": [
      "Meu primeiro código\n"
     ]
    }
   ],
   "source": [
    "print(\"Meu primeiro código\")"
   ]
  },
  {
   "cell_type": "markdown",
   "id": "cc759588",
   "metadata": {},
   "source": [
    "<h3 style=\"color: #00BFFF\">Tipos de Dados: textos e números</h3>\n",
    "\n",
    "1. Texto\n",
    "    - String: **str**\n",
    "\n",
    "2. Numérico:\n",
    "    - inteiro: **int**\n",
    "    - com casa decimal: **float**\n",
    "    \n",
    "**ATENÇÃO**: o separador de casas decimais no Python é o ponto e não a vírgula.\n",
    "- **10,3** (errado)\n",
    "- **10.3** (correto)\n",
    "-Para verificar o tipo de dados, podemos utilizar a função **type()**.\n",
    "- Operadores aritméticos:\n",
    "    - adição: +\n",
    "    - subtração: -\n",
    "    - multiplicação: * (asterisco)\n",
    "    - divisão: / (barra)"
   ]
  },
  {
   "cell_type": "code",
   "execution_count": 5,
   "id": "427a970a",
   "metadata": {},
   "outputs": [
    {
     "name": "stdout",
     "output_type": "stream",
     "text": [
      "10\n"
     ]
    }
   ],
   "source": [
    "# isso é um tipo texto\n",
    "print(\"10\")"
   ]
  },
  {
   "cell_type": "code",
   "execution_count": 6,
   "id": "76e4d4ca",
   "metadata": {},
   "outputs": [
    {
     "data": {
      "text/plain": [
       "int"
      ]
     },
     "execution_count": 6,
     "metadata": {},
     "output_type": "execute_result"
    }
   ],
   "source": [
    "type(10)"
   ]
  },
  {
   "cell_type": "code",
   "execution_count": 7,
   "id": "a2f24826",
   "metadata": {},
   "outputs": [
    {
     "name": "stdout",
     "output_type": "stream",
     "text": [
      "10.5\n"
     ]
    }
   ],
   "source": [
    "# isso é um tipo númerico (número com casa decimal)\n",
    "print(10.5)"
   ]
  },
  {
   "cell_type": "code",
   "execution_count": 8,
   "id": "91c57f99",
   "metadata": {},
   "outputs": [
    {
     "name": "stdout",
     "output_type": "stream",
     "text": [
      "10 + 20\n"
     ]
    }
   ],
   "source": [
    "# CUIDADO!!!! Não podemos realizar cálculos com textos e nem entre tipos diferentes!\n",
    "print(\"10 + 20\")"
   ]
  },
  {
   "cell_type": "code",
   "execution_count": null,
   "id": "7820fe8b",
   "metadata": {},
   "outputs": [],
   "source": [
    "# gera um erro, pois estamos somando um texto com um número inteiro!\n",
    "print(\"10\" + 10)"
   ]
  },
  {
   "cell_type": "code",
   "execution_count": 3,
   "id": "da7fda51",
   "metadata": {},
   "outputs": [
    {
     "name": "stdout",
     "output_type": "stream",
     "text": [
      "Semana do Python na Prática\n"
     ]
    },
    {
     "data": {
      "text/plain": [
       "'Semana do Python na Prática'"
      ]
     },
     "execution_count": 3,
     "metadata": {},
     "output_type": "execute_result"
    }
   ],
   "source": [
    "input()"
   ]
  },
  {
   "cell_type": "code",
   "execution_count": 4,
   "id": "237b7131",
   "metadata": {},
   "outputs": [
    {
     "name": "stdout",
     "output_type": "stream",
     "text": [
      "Digite o seu nome: Raphaela\n",
      "Digite a sua idade: 26\n"
     ]
    },
    {
     "data": {
      "text/plain": [
       "'26'"
      ]
     },
     "execution_count": 4,
     "metadata": {},
     "output_type": "execute_result"
    }
   ],
   "source": [
    "input(\"Digite o seu nome: \")\n",
    "input(\"Digite a sua idade: \")"
   ]
  },
  {
   "cell_type": "markdown",
   "id": "26e64cd9",
   "metadata": {},
   "source": [
    "<h3 style=\"color: #00BFFF\"> Gerar automaticamente um arquivo em PDF com informações inseridas pelo usuário.</h3>"
   ]
  },
  {
   "cell_type": "code",
   "execution_count": 5,
   "id": "24dece53",
   "metadata": {},
   "outputs": [
    {
     "name": "stdout",
     "output_type": "stream",
     "text": [
      "Digite a descrição do projeto: Desenvolvimento Python\n",
      "Digite o total de horas estimadas: 60\n",
      "Digite o valor da hora trabalhada: 120\n",
      "Digite o prazo estimado: 2 meses\n"
     ]
    }
   ],
   "source": [
    "projeto = input(\"Digite a descrição do projeto: \")\n",
    "horas_estimadas = input(\"Digite o total de horas estimadas: \")\n",
    "valor_hora = input(\"Digite o valor da hora trabalhada: \")\n",
    "prazo_estimado = input(\"Digite o prazo estimado: \")"
   ]
  },
  {
   "cell_type": "markdown",
   "id": "67231ad8",
   "metadata": {},
   "source": [
    "<h3 style=\"color: #00BFFF\">Criando o cálculo do valor total estimado</h3>\n",
    "\n",
    "   **CÁLCULO:** valor total estimado = total de horas estimadadas x valor da hora de trabalho"
   ]
  },
  {
   "cell_type": "code",
   "execution_count": 6,
   "id": "850b61a9",
   "metadata": {},
   "outputs": [],
   "source": [
    "valor_total_estimado = int(horas_estimadas) * int(valor_hora)"
   ]
  },
  {
   "cell_type": "code",
   "execution_count": 7,
   "id": "e6c40735",
   "metadata": {},
   "outputs": [
    {
     "name": "stdout",
     "output_type": "stream",
     "text": [
      "7200\n"
     ]
    }
   ],
   "source": [
    "print(valor_total_estimado)"
   ]
  },
  {
   "cell_type": "markdown",
   "id": "7a2207fe",
   "metadata": {},
   "source": [
    "<h3 style=\"color: #00BFFF\">Gerando o PDF com o orçamento</h3>"
   ]
  },
  {
   "cell_type": "code",
   "execution_count": 8,
   "id": "79070d42",
   "metadata": {},
   "outputs": [
    {
     "name": "stdout",
     "output_type": "stream",
     "text": [
      "Collecting fpdf\n",
      "  Downloading fpdf-1.7.2.tar.gz (39 kB)\n",
      "  Preparing metadata (setup.py): started\n",
      "  Preparing metadata (setup.py): finished with status 'done'\n",
      "Building wheels for collected packages: fpdf\n",
      "  Building wheel for fpdf (setup.py): started\n",
      "  Building wheel for fpdf (setup.py): finished with status 'done'\n",
      "  Created wheel for fpdf: filename=fpdf-1.7.2-py2.py3-none-any.whl size=40705 sha256=678f01c37b70c5b28f14614e4cbe675d68d9d897a4f6a2618f43e1514455a94b\n",
      "  Stored in directory: c:\\users\\user\\appdata\\local\\pip\\cache\\wheels\\44\\35\\8b\\86ce00cec7e4d13c5f189680ae0fa82f919bedc066c2cddae9\n",
      "Successfully built fpdf\n",
      "Installing collected packages: fpdf\n",
      "Successfully installed fpdf-1.7.2\n"
     ]
    }
   ],
   "source": [
    "# Instalando a biblioteca\n",
    "!pip install fpdf"
   ]
  },
  {
   "cell_type": "code",
   "execution_count": 9,
   "id": "1d6d6343",
   "metadata": {},
   "outputs": [],
   "source": [
    "# importando a biblioteca \n",
    "from fpdf import FPDF"
   ]
  },
  {
   "cell_type": "code",
   "execution_count": 10,
   "id": "ce4c6930",
   "metadata": {},
   "outputs": [],
   "source": [
    "#criando um arquivo PDF\n",
    "pdf = FPDF()\n",
    "pdf.add_page()\n",
    "pdf.set_font(\"Arial\")"
   ]
  },
  {
   "cell_type": "code",
   "execution_count": 17,
   "id": "ad63a793",
   "metadata": {},
   "outputs": [],
   "source": [
    "# Inserindo os dados no PDF\n",
    "# utilizando um template\n",
    "pdf.image(\"template.png\", x=0, y=0 )\n",
    "# a imagem deve estar na mesma pasta que está o código.\n",
    "\n",
    "# inserindo os dados do projeto\n",
    "pdf.text(115, 145, projeto)\n",
    "pdf.text(200, 160, horas_estimadas)\n",
    "pdf.text(115, 175, valor_hora)\n",
    "pdf.text(115, 190, prazo_estimado)\n",
    "pdf.text(115, 205, str(valor_total_estimado))"
   ]
  },
  {
   "cell_type": "code",
   "execution_count": 18,
   "id": "7646b5fe",
   "metadata": {},
   "outputs": [
    {
     "name": "stdout",
     "output_type": "stream",
     "text": [
      "Orçamento gerado com sucesso!\n"
     ]
    }
   ],
   "source": [
    "pdf.output(\"orçamento.pdf\")\n",
    "print(\"Orçamento gerado com sucesso!\")\n",
    "#o arquivo é salvo na mesma pasta onde está o código."
   ]
  },
  {
   "cell_type": "code",
   "execution_count": null,
   "id": "18498253",
   "metadata": {},
   "outputs": [],
   "source": []
  }
 ],
 "metadata": {
  "kernelspec": {
   "display_name": "Python 3 (ipykernel)",
   "language": "python",
   "name": "python3"
  },
  "language_info": {
   "codemirror_mode": {
    "name": "ipython",
    "version": 3
   },
   "file_extension": ".py",
   "mimetype": "text/x-python",
   "name": "python",
   "nbconvert_exporter": "python",
   "pygments_lexer": "ipython3",
   "version": "3.9.13"
  }
 },
 "nbformat": 4,
 "nbformat_minor": 5
}
